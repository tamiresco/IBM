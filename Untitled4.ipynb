{
  "nbformat": 4,
  "nbformat_minor": 0,
  "metadata": {
    "colab": {
      "name": "Untitled4.ipynb",
      "provenance": [],
      "collapsed_sections": [],
      "authorship_tag": "ABX9TyPSDOI8zEWrWouuPJ5xuNDd",
      "include_colab_link": true
    },
    "kernelspec": {
      "name": "python3",
      "display_name": "Python 3"
    }
  },
  "cells": [
    {
      "cell_type": "markdown",
      "metadata": {
        "id": "view-in-github",
        "colab_type": "text"
      },
      "source": [
        "<a href=\"https://colab.research.google.com/github/tamiresco/ibm3/blob/master/Untitled4.ipynb\" target=\"_parent\"><img src=\"https://colab.research.google.com/assets/colab-badge.svg\" alt=\"Open In Colab\"/></a>"
      ]
    },
    {
      "cell_type": "markdown",
      "metadata": {
        "id": "AK3VeysNUEjT",
        "colab_type": "text"
      },
      "source": [
        "# First part"
      ]
    },
    {
      "cell_type": "code",
      "metadata": {
        "id": "mNCcO6KdEZMt",
        "colab_type": "code",
        "colab": {}
      },
      "source": [
        "import numpy as np # library to handle data in a vectorized manner\n",
        "import pandas as pd # library for data analsysis\n",
        "\n",
        "Toronto_raw = pd.read_html(\"https://en.wikipedia.org/wiki/List_of_postal_codes_of_Canada:_M\")\n",
        "df = pd.DataFrame(Toronto_raw[0])\n",
        "df.head(10)"
      ],
      "execution_count": null,
      "outputs": []
    },
    {
      "cell_type": "code",
      "metadata": {
        "id": "aPIzM-hhFUWA",
        "colab_type": "code",
        "colab": {}
      },
      "source": [
        "df.drop(df[df.District == \"Not assigned\"].index, axis=0, inplace=True)"
      ],
      "execution_count": null,
      "outputs": []
    },
    {
      "cell_type": "code",
      "metadata": {
        "id": "spWQUXhVHp1Z",
        "colab_type": "code",
        "colab": {}
      },
      "source": [
        "df.rename(columns={\"District\": \"Borough\"}, inplace=True)"
      ],
      "execution_count": 22,
      "outputs": []
    },
    {
      "cell_type": "code",
      "metadata": {
        "id": "xuoJr3UjH_WA",
        "colab_type": "code",
        "colab": {}
      },
      "source": [
        "df"
      ],
      "execution_count": null,
      "outputs": []
    },
    {
      "cell_type": "markdown",
      "metadata": {
        "id": "mPPkrvwTJ1CM",
        "colab_type": "text"
      },
      "source": [
        "Number of rows after a lot of rows being drop :"
      ]
    },
    {
      "cell_type": "code",
      "metadata": {
        "id": "WHByN2rNJvXS",
        "colab_type": "code",
        "colab": {
          "base_uri": "https://localhost:8080/",
          "height": 34
        },
        "outputId": "97056b55-5a55-452f-abb9-7c3342ab62a6"
      },
      "source": [
        "len(df) # I use len() instead of shape"
      ],
      "execution_count": 28,
      "outputs": [
        {
          "output_type": "execute_result",
          "data": {
            "text/plain": [
              "103"
            ]
          },
          "metadata": {
            "tags": []
          },
          "execution_count": 28
        }
      ]
    },
    {
      "cell_type": "markdown",
      "metadata": {
        "id": "pDL8Ox13ULDT",
        "colab_type": "text"
      },
      "source": [
        "# Second part"
      ]
    },
    {
      "cell_type": "code",
      "metadata": {
        "id": "M6HXGfgeLwKe",
        "colab_type": "code",
        "colab": {}
      },
      "source": [
        "url = 'http://cocl.us/Geospatial_data'\n",
        "df1 = pd.read_csv(url)"
      ],
      "execution_count": null,
      "outputs": []
    },
    {
      "cell_type": "code",
      "metadata": {
        "id": "zh2q0_GxR6Ou",
        "colab_type": "code",
        "colab": {}
      },
      "source": [
        "df2 = pd.merge_ordered(df, df1, fill_method=\"ffill\", left_by=\"Postal Code\")\n",
        "df2"
      ],
      "execution_count": null,
      "outputs": []
    },
    {
      "cell_type": "markdown",
      "metadata": {
        "id": "LeYxcB8AUO83",
        "colab_type": "text"
      },
      "source": [
        "# Third part"
      ]
    },
    {
      "cell_type": "code",
      "metadata": {
        "id": "dzCfr9PWUdbn",
        "colab_type": "code",
        "colab": {}
      },
      "source": [
        ""
      ],
      "execution_count": null,
      "outputs": []
    }
  ]
}